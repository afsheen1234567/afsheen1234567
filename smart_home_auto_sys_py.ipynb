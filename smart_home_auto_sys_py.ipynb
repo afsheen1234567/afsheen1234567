{
  "nbformat": 4,
  "nbformat_minor": 0,
  "metadata": {
    "colab": {
      "provenance": [],
      "authorship_tag": "ABX9TyPvh9S7Tr49tooi6gG5Qawp",
      "include_colab_link": true
    },
    "kernelspec": {
      "name": "python3",
      "display_name": "Python 3"
    },
    "language_info": {
      "name": "python"
    }
  },
  "cells": [
    {
      "cell_type": "markdown",
      "metadata": {
        "id": "view-in-github",
        "colab_type": "text"
      },
      "source": [
        "<a href=\"https://colab.research.google.com/github/afsheen1234567/afsheen1234567/blob/main/smart_home_auto_sys_py.ipynb\" target=\"_parent\"><img src=\"https://colab.research.google.com/assets/colab-badge.svg\" alt=\"Open In Colab\"/></a>"
      ]
    },
    {
      "cell_type": "code",
      "execution_count": null,
      "metadata": {
        "id": "GJKccSzdB9DD"
      },
      "outputs": [],
      "source": [
        "#PYTHON ASSIGNMENT:Smart Home Automation System"
      ]
    },
    {
      "cell_type": "code",
      "source": [
        "#1.Device Management(Lists& Tuples)"
      ],
      "metadata": {
        "id": "ohStTFb3Cwlk"
      },
      "execution_count": null,
      "outputs": []
    },
    {
      "cell_type": "code",
      "source": [
        "devices = [\"Smart Light\", \"Thermostat\", \"Smart Lock\", \"Robot Vacuum\", \"Smart Speaker\"]\n",
        "devices.append(\"Security Camera\")\n",
        "devices.remove(\"Thermostat\")\n",
        "print(devices)"
      ],
      "metadata": {
        "colab": {
          "base_uri": "https://localhost:8080/"
        },
        "id": "tpVlA2osDZaj",
        "outputId": "c006bcd7-ec1c-4fde-d1c4-af192dc190f8"
      },
      "execution_count": null,
      "outputs": [
        {
          "output_type": "stream",
          "name": "stdout",
          "text": [
            "['Smart Light', 'Smart Lock', 'Robot Vacuum', 'Smart Speaker', 'Security Camera']\n"
          ]
        }
      ]
    },
    {
      "cell_type": "code",
      "source": [
        "devices.sort()\n",
        "print(devices)"
      ],
      "metadata": {
        "colab": {
          "base_uri": "https://localhost:8080/"
        },
        "id": "4eekAkt_Kcac",
        "outputId": "4b3cfa6c-20d4-4f13-f329-dbba2b19577b"
      },
      "execution_count": null,
      "outputs": [
        {
          "output_type": "stream",
          "name": "stdout",
          "text": [
            "['Robot Vacuum', 'Security Camera', 'Smart Light', 'Smart Lock', 'Smart Speaker']\n"
          ]
        }
      ]
    },
    {
      "cell_type": "code",
      "source": [
        "#Task 1.2:Store Device Setting Using Tuples\n",
        "\n",
        "#Define Tuple for each device, containing\n",
        "\n",
        "#Device name\n",
        "\n",
        "#Device status(ON/OFF)\n",
        "\n",
        "#Device power consumption(in Watts)\n"
      ],
      "metadata": {
        "id": "_QXLpFZvK2YF"
      },
      "execution_count": null,
      "outputs": []
    },
    {
      "cell_type": "code",
      "source": [
        "tuple1=(\"Robot Vacuum\",\"ON\",200)\n",
        "tuple2=(\"Security camera\",\"OFF\",85)\n",
        "tuple3=(\"Smart light\",\"ON\",40)\n"
      ],
      "metadata": {
        "id": "c8WajtOQRzeD"
      },
      "execution_count": null,
      "outputs": []
    },
    {
      "cell_type": "code",
      "source": [
        "print(tuple1)\n",
        "print(tuple2)\n",
        "print(tuple3)"
      ],
      "metadata": {
        "colab": {
          "base_uri": "https://localhost:8080/"
        },
        "id": "P6uhjx-3m9To",
        "outputId": "f245f822-22d7-4c72-b514-b322f8178578"
      },
      "execution_count": null,
      "outputs": [
        {
          "output_type": "stream",
          "name": "stdout",
          "text": [
            "('Robot Vacuum', 'ON', 200)\n",
            "('Security camera', 'OFF', 85)\n",
            "('Smart light', 'ON', 40)\n"
          ]
        }
      ]
    },
    {
      "cell_type": "code",
      "source": [
        "#2.Energy Consumption Tracker (Dictionaries & Sets)"
      ],
      "metadata": {
        "id": "jezQ9w0incus"
      },
      "execution_count": null,
      "outputs": []
    },
    {
      "cell_type": "code",
      "source": [
        "energy_usage = {\n",
        "    \"TV\": 120,\n",
        "    \"Fridge\": 300,\n",
        "    \"Laptop\": 80\n",
        "}\n"
      ],
      "metadata": {
        "id": "_1uf8Eren1JM"
      },
      "execution_count": null,
      "outputs": []
    },
    {
      "cell_type": "code",
      "source": [
        "print(energy_usage)\n",
        "energy_usage[\"fan\"]=\"80\""
      ],
      "metadata": {
        "colab": {
          "base_uri": "https://localhost:8080/"
        },
        "id": "rfiS2LSEp5Zr",
        "outputId": "9025b076-257e-4015-d0cb-985899e3708c"
      },
      "execution_count": null,
      "outputs": [
        {
          "output_type": "stream",
          "name": "stdout",
          "text": [
            "{'TV': 120, 'Fridge': 300, 'Laptop': 80, 'fan': 80}\n"
          ]
        }
      ]
    },
    {
      "cell_type": "code",
      "source": [
        "energy_usage[\"TV\"] = 150  # updates the value\n",
        "print(energy_usage)"
      ],
      "metadata": {
        "colab": {
          "base_uri": "https://localhost:8080/"
        },
        "id": "0tWAIYzYrmhq",
        "outputId": "87b7d85b-5931-4635-cef2-309a5f1467fd"
      },
      "execution_count": null,
      "outputs": [
        {
          "output_type": "stream",
          "name": "stdout",
          "text": [
            "{'Fridge': 300, 'Laptop': 80, 'fan': '80', 'TV': 150}\n"
          ]
        }
      ]
    },
    {
      "cell_type": "code",
      "source": [
        "del energy_usage[\"TV\"]\n",
        "print(energy_usage)\n"
      ],
      "metadata": {
        "colab": {
          "base_uri": "https://localhost:8080/"
        },
        "id": "9qsU9f_lrtZZ",
        "outputId": "3871a15f-e2fb-4df0-88cd-d0d4d26ad9d6"
      },
      "execution_count": null,
      "outputs": [
        {
          "output_type": "stream",
          "name": "stdout",
          "text": [
            "{'Fridge': 300, 'Laptop': 80, 'fan': '80'}\n"
          ]
        }
      ]
    },
    {
      "cell_type": "code",
      "source": [
        "print(energy_usage.keys())\n",
        "print(energy_usage.values())"
      ],
      "metadata": {
        "colab": {
          "base_uri": "https://localhost:8080/"
        },
        "id": "OSRcjkkQsezN",
        "outputId": "dfda6dab-060c-4ff6-d887-03fe96f8dbf8"
      },
      "execution_count": null,
      "outputs": [
        {
          "output_type": "stream",
          "name": "stdout",
          "text": [
            "dict_keys(['Fridge', 'Laptop', 'fan'])\n",
            "dict_values([300, 80, '80'])\n"
          ]
        }
      ]
    },
    {
      "cell_type": "code",
      "source": [
        "print(energy_usage.items())"
      ],
      "metadata": {
        "colab": {
          "base_uri": "https://localhost:8080/"
        },
        "id": "Y7yaYI3Gs16Q",
        "outputId": "7a84d168-017a-4156-be45-ea0651ec2260"
      },
      "execution_count": null,
      "outputs": [
        {
          "output_type": "stream",
          "name": "stdout",
          "text": [
            "dict_items([('Fridge', 300), ('Laptop', 80), ('fan', '80')])\n"
          ]
        }
      ]
    },
    {
      "cell_type": "code",
      "source": [
        "#Display total energy consumption"
      ],
      "metadata": {
        "id": "iXmPYHYiA7if"
      },
      "execution_count": null,
      "outputs": []
    },
    {
      "source": [
        "total = sum(int(val) for val in energy_usage.values()) # Convert values to integers before summing\n",
        "print(\"Total energy:\", total)"
      ],
      "cell_type": "code",
      "metadata": {
        "colab": {
          "base_uri": "https://localhost:8080/"
        },
        "id": "VJ7HEBdEtp0W",
        "outputId": "5abb9468-a1e8-4175-fa64-2d58970f8dc9"
      },
      "execution_count": null,
      "outputs": [
        {
          "output_type": "stream",
          "name": "stdout",
          "text": [
            "Total energy: 460\n"
          ]
        }
      ]
    },
    {
      "cell_type": "code",
      "source": [
        "#Task2.2: Identify Unique Power-Saving Modes Using Sets"
      ],
      "metadata": {
        "id": "8MxdtHBat4HR"
      },
      "execution_count": null,
      "outputs": []
    },
    {
      "cell_type": "code",
      "source": [
        "# Initialize an empty set for unique power saving modes\n",
        "power_saving_modes = set()\n",
        "\n",
        "# Add modes (duplicates will be ignored automatically)\n",
        "power_saving_modes.add(\"Eco\")\n",
        "power_saving_modes.add(\"Sleep\")\n",
        "power_saving_modes.add(\"Hibernate\")\n",
        "\n",
        "# Print the set\n",
        "print(power_saving_modes)\n"
      ],
      "metadata": {
        "colab": {
          "base_uri": "https://localhost:8080/"
        },
        "id": "q7IookzyCbdA",
        "outputId": "e3f84c2c-a3af-4333-a434-eb09230eb109"
      },
      "execution_count": null,
      "outputs": [
        {
          "output_type": "stream",
          "name": "stdout",
          "text": [
            "{'Hibernate', 'Sleep', 'Eco'}\n"
          ]
        }
      ]
    },
    {
      "cell_type": "code",
      "source": [
        "# Unique Power Saving mode\n",
        "power_saving_modes = {\"Eco\", \"Sleep\", \"Hibernate\"}\n",
        "\n",
        "# Add a new mode\n",
        "power_saving_modes.add(\"Ultra-Save\")\n",
        "\n",
        "# Check the updated set\n",
        "print(power_saving_modes)\n"
      ],
      "metadata": {
        "colab": {
          "base_uri": "https://localhost:8080/"
        },
        "id": "kjOrC51zDjfu",
        "outputId": "40496f8f-7837-4db0-ad6c-9fc21f71621c"
      },
      "execution_count": null,
      "outputs": [
        {
          "output_type": "stream",
          "name": "stdout",
          "text": [
            "{'Ultra-Save', 'Hibernate', 'Sleep', 'Eco'}\n"
          ]
        }
      ]
    },
    {
      "cell_type": "code",
      "source": [
        "#3. Function for Smart Home Automation Task\n",
        "#3.1:Create a Function to Calculate Monthly Energy Cost"
      ],
      "metadata": {
        "id": "uJhOuZ0HEAxg"
      },
      "execution_count": null,
      "outputs": []
    },
    {
      "cell_type": "code",
      "source": [
        "def calculate_energy_cost():\n",
        "    try:\n",
        "        total_energy_usage = float(input(\"Enter total energy usage in kWh: \"))\n",
        "        rate_per_kwh = float(input(\"Enter electricity rate per kWh: \"))\n",
        "        cost = total_energy_usage * rate_per_kwh\n",
        "        print(f\"Total Energy Cost: {cost:.2f}\")\n",
        "    except ValueError:\n",
        "        print(\"Please enter valid numeric input.\")\n",
        "\n",
        "# Run the function\n",
        "calculate_energy_cost()\n"
      ],
      "metadata": {
        "colab": {
          "base_uri": "https://localhost:8080/"
        },
        "id": "LDWtF6TxHGNX",
        "outputId": "3143fc2a-42ac-47cd-9433-dcf9d1b86a95"
      },
      "execution_count": null,
      "outputs": [
        {
          "output_type": "stream",
          "name": "stdout",
          "text": [
            "Enter total energy usage in kWh: 150.5\n",
            "Enter electricity rate per kWh: 0.25\n",
            "Total Energy Cost: 37.62\n"
          ]
        }
      ]
    },
    {
      "cell_type": "code",
      "source": [
        "per_month=float(input(\"Enter total energy usage in kWh: \"))\n",
        "cost_per_kWh=float(input(\"Enter electricity rate per kWh: \"))"
      ],
      "metadata": {
        "colab": {
          "base_uri": "https://localhost:8080/"
        },
        "id": "q3T4zqXycv0m",
        "outputId": "cbbb119d-8e2e-43f8-9fb1-e4299796ba1a"
      },
      "execution_count": null,
      "outputs": [
        {
          "name": "stdout",
          "output_type": "stream",
          "text": [
            "Enter total energy usage in kWh: 150.5\n",
            "Enter electricity rate per kWh: 0.25\n"
          ]
        }
      ]
    },
    {
      "cell_type": "code",
      "source": [
        "monthly_cost = per_month * cost_per_kWh\n",
        "print(f\"Monthly Energy Cost: {monthly_cost:.2f}\")"
      ],
      "metadata": {
        "id": "AzELdpxPH9Uv",
        "colab": {
          "base_uri": "https://localhost:8080/"
        },
        "outputId": "e4006277-571f-4e81-b9ad-baee0f6a9185"
      },
      "execution_count": null,
      "outputs": [
        {
          "output_type": "stream",
          "name": "stdout",
          "text": [
            "Monthly Energy Cost: 37.62\n"
          ]
        }
      ]
    },
    {
      "cell_type": "code",
      "source": [
        "#Task 3.2:Create a Function to Find Common Devices in Two Homes\n",
        "\n",
        "#Take two lists of smart devicesfrom two different homes.\n",
        "\n",
        "#Returns a set of common devices."
      ],
      "metadata": {
        "id": "Y0DzvDaDdp5a"
      },
      "execution_count": null,
      "outputs": []
    },
    {
      "cell_type": "code",
      "source": [
        "home1_devices = [\"Smart Light\", \"Security Camera\", \"Smart Lock\"]\n",
        "home2_devices = [\"Robot Vacuum\", \"Smart Lock\", \"Security Camera\"]\n",
        "\n",
        "common = set(home1_devices) & set(home2_devices)\n",
        "print(common)  # Output: {'Smart Lock', 'Security Camera'}"
      ],
      "metadata": {
        "colab": {
          "base_uri": "https://localhost:8080/"
        },
        "id": "v3MnS3mmdPJ6",
        "outputId": "1601a95d-e0db-4370-c18e-82c12deb8150"
      },
      "execution_count": null,
      "outputs": [
        {
          "output_type": "stream",
          "name": "stdout",
          "text": [
            "{'Smart Lock', 'Security Camera'}\n"
          ]
        }
      ]
    },
    {
      "cell_type": "code",
      "source": [
        "#4. Automation Features(Advanced Functions)\n",
        "\n",
        "#Task 4.1:Create an Automation Rule Using Functions"
      ],
      "metadata": {
        "id": "iSeAujCZiXYq"
      },
      "execution_count": null,
      "outputs": []
    },
    {
      "cell_type": "code",
      "source": [
        "def set_automation_rule(device_name, time, action):\n",
        "    return(f\"{device_name} will turn {action} at {time}\")\n",
        "#Get input from the user and assign it to variables\n",
        "device_name_input = input(\"Enter device name:\")\n",
        "time_input = input(\"Enter time:\")\n",
        "action_input = input(\"Enter action:\")\n",
        "#Call the function with the user input values\n",
        "msg = set_automation_rule(device_name_input, time_input, action_input)\n",
        "print(msg)"
      ],
      "metadata": {
        "colab": {
          "base_uri": "https://localhost:8080/"
        },
        "id": "ktA01-M0YsOc",
        "outputId": "123ac53e-8b8e-46fc-ecb6-d59093ff3132"
      },
      "execution_count": null,
      "outputs": [
        {
          "output_type": "stream",
          "name": "stdout",
          "text": [
            "Enter device name:Robot Vacuum\n",
            "Enter time:6pm\n",
            "Enter action:OFF\n",
            "Robot Vacuum will turn OFF at 6pm\n"
          ]
        }
      ]
    },
    {
      "cell_type": "code",
      "source": [
        "#Task 4.2:Function to Optimize Power Consumption\n",
        "#Take a list of devices with their power usage\n",
        "#Turn off devices consuming high power(<1000W)"
      ],
      "metadata": {
        "id": "SXTVjiSYZLrV"
      },
      "execution_count": null,
      "outputs": []
    },
    {
      "cell_type": "code",
      "source": [
        "def check_power(devices):\n",
        "    for name, power in devices:\n",
        "        print(f\"{name} uses {power}W\")\n"
      ],
      "metadata": {
        "id": "mEmfjxyNlOgx"
      },
      "execution_count": null,
      "outputs": []
    },
    {
      "cell_type": "code",
      "source": [
        "my_devices = [(\"TV\", 150), (\"Fridge\", 300) ,(\"Robot Vacuum\" , 200) ,(\"AC\" , 1500) ,(\"Heater\" , 2000)]\n",
        "turn_off_devices = [name for name, power in my_devices if power > 1000]\n",
        "print(turn_off_devices)\n"
      ],
      "metadata": {
        "colab": {
          "base_uri": "https://localhost:8080/"
        },
        "id": "zTF59P_-lQRY",
        "outputId": "627da4e4-406a-4f8f-f571-83181289fe33"
      },
      "execution_count": null,
      "outputs": [
        {
          "output_type": "stream",
          "name": "stdout",
          "text": [
            "['AC', 'Heater']\n"
          ]
        }
      ]
    },
    {
      "cell_type": "code",
      "source": [
        "def filter_active_devices(devices):\n",
        "    active = []\n",
        "    for name, power in devices:\n",
        "        if power <= 1000:\n",
        "            active.append((name, power))\n",
        "    return active\n"
      ],
      "metadata": {
        "id": "ZTSOQT4arHp8"
      },
      "execution_count": null,
      "outputs": []
    },
    {
      "cell_type": "code",
      "source": [
        "print(filter_active_devices(my_devices))"
      ],
      "metadata": {
        "colab": {
          "base_uri": "https://localhost:8080/"
        },
        "id": "OWWGubxnrQID",
        "outputId": "03083775-dd52-4d36-8c2f-3856aad38274"
      },
      "execution_count": null,
      "outputs": [
        {
          "output_type": "stream",
          "name": "stdout",
          "text": [
            "[('TV', 150), ('Fridge', 300), ('Robot Vacuum', 200)]\n"
          ]
        }
      ]
    },
    {
      "cell_type": "code",
      "source": [
        "#Bonus Challenge(Optional)\n",
        "\n",
        "  #Smart Home Assistant(Using *args & **kwargs)\n",
        "\n",
        "  #Create a function smart_home_assistant"
      ],
      "metadata": {
        "id": "d9NRJQpvrTaY"
      },
      "execution_count": null,
      "outputs": []
    },
    {
      "cell_type": "code",
      "source": [
        "def greet_name(user_name):#give input no output\n",
        "  print(\"hello\",user_name)#local variable\n"
      ],
      "metadata": {
        "id": "vrvori0S440Z"
      },
      "execution_count": 2,
      "outputs": []
    },
    {
      "cell_type": "code",
      "source": [
        "name=\"afsheen mohsin\""
      ],
      "metadata": {
        "id": "yWSmK2nV56XR"
      },
      "execution_count": 3,
      "outputs": []
    },
    {
      "cell_type": "code",
      "source": [
        "greet_name(name)"
      ],
      "metadata": {
        "colab": {
          "base_uri": "https://localhost:8080/"
        },
        "id": "JSFofCDz6GqA",
        "outputId": "f9d0dc90-8e7e-42dc-837f-f6bad64d7960"
      },
      "execution_count": 4,
      "outputs": [
        {
          "output_type": "stream",
          "name": "stdout",
          "text": [
            "hello afsheen mohsin\n"
          ]
        }
      ]
    },
    {
      "cell_type": "code",
      "source": [
        "#*ags Devices that need status update\n",
        "def devices_needing_update(*devices):\n",
        "    for device in devices:\n",
        "        print(f\"Device '{device}' needs a status update.\")\n"
      ],
      "metadata": {
        "id": "3A2wtaNP6J4G"
      },
      "execution_count": 5,
      "outputs": []
    },
    {
      "cell_type": "code",
      "source": [
        "devices_needing_update(\"smart light\", \"AC\", \"Robot vacuum\")"
      ],
      "metadata": {
        "colab": {
          "base_uri": "https://localhost:8080/"
        },
        "id": "iy9uTs4b7f-0",
        "outputId": "5595b339-8ff2-44de-efcd-cdab8f9e6d2c"
      },
      "execution_count": 20,
      "outputs": [
        {
          "output_type": "stream",
          "name": "stdout",
          "text": [
            "Checking devices: smart light, AC, Robot vacuum\n",
            "Device 'smart light' needs a status update.\n",
            "Device 'AC' needs a status update.\n",
            "Device 'Robot vacuum' needs a status update.\n"
          ]
        }
      ]
    },
    {
      "cell_type": "code",
      "source": [
        "return_value=devices_needing_update(\"smart light\", \"AC\", \"Robot vacuum\")"
      ],
      "metadata": {
        "colab": {
          "base_uri": "https://localhost:8080/"
        },
        "id": "suqGEETL_Vru",
        "outputId": "199c14e0-ca51-4a35-9497-5a817490eef5"
      },
      "execution_count": 21,
      "outputs": [
        {
          "output_type": "stream",
          "name": "stdout",
          "text": [
            "Checking devices: smart light, AC, Robot vacuum\n",
            "Device 'smart light' needs a status update.\n",
            "Device 'AC' needs a status update.\n",
            "Device 'Robot vacuum' needs a status update.\n"
          ]
        }
      ]
    },
    {
      "cell_type": "code",
      "source": [
        "def automation_commands(**kwargs):\n",
        "    for device, command in kwargs.items():\n",
        "        print(f\"Sending command '{command}' to device '{device}'.\")\n"
      ],
      "metadata": {
        "id": "atc4pnUr-pEV"
      },
      "execution_count": 18,
      "outputs": []
    },
    {
      "cell_type": "code",
      "source": [
        "automation_commands(**{\"smart light\":\"ON\", \"AC\":\"OFF\", \"Robot vacuum\":\"OFF\"})"
      ],
      "metadata": {
        "colab": {
          "base_uri": "https://localhost:8080/"
        },
        "id": "NE1uRNUr-rJO",
        "outputId": "b596c1ab-3391-4915-c565-424b4e756f03"
      },
      "execution_count": 24,
      "outputs": [
        {
          "output_type": "stream",
          "name": "stdout",
          "text": [
            "Sending command 'ON' to device 'smart light'.\n",
            "Sending command 'OFF' to device 'AC'.\n",
            "Sending command 'OFF' to device 'Robot vacuum'.\n"
          ]
        }
      ]
    },
    {
      "cell_type": "code",
      "source": [
        "return_value=automation_commands(**{\"smart light\":\"ON\", \"AC\":\"OFF\", \"Robot vacuum\":\"OFF\"})"
      ],
      "metadata": {
        "colab": {
          "base_uri": "https://localhost:8080/"
        },
        "id": "p8v25yHCAi_M",
        "outputId": "431e4f3e-7d97-46ca-fad0-75e532f57598"
      },
      "execution_count": 25,
      "outputs": [
        {
          "output_type": "stream",
          "name": "stdout",
          "text": [
            "Sending command 'ON' to device 'smart light'.\n",
            "Sending command 'OFF' to device 'AC'.\n",
            "Sending command 'OFF' to device 'Robot vacuum'.\n"
          ]
        }
      ]
    }
  ]
}