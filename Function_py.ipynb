{
  "nbformat": 4,
  "nbformat_minor": 0,
  "metadata": {
    "colab": {
      "provenance": [],
      "authorship_tag": "ABX9TyMRiw5tdXTM10Qjw05eXGWf",
      "include_colab_link": true
    },
    "kernelspec": {
      "name": "python3",
      "display_name": "Python 3"
    },
    "language_info": {
      "name": "python"
    }
  },
  "cells": [
    {
      "cell_type": "markdown",
      "metadata": {
        "id": "view-in-github",
        "colab_type": "text"
      },
      "source": [
        "<a href=\"https://colab.research.google.com/github/afsheen1234567/afsheen1234567/blob/main/Function_py.ipynb\" target=\"_parent\"><img src=\"https://colab.research.google.com/assets/colab-badge.svg\" alt=\"Open In Colab\"/></a>"
      ]
    },
    {
      "cell_type": "code",
      "execution_count": null,
      "metadata": {
        "id": "EIyV_uSQ7qQ8"
      },
      "outputs": [],
      "source": [
        "#LIST COMPREHANTION\n",
        "#LONG CODE COVERT INTO SHORT ONE (SINGLE LINE)\n",
        "\n"
      ]
    },
    {
      "cell_type": "code",
      "source": [
        "sq_list= [i**2 for i in range(10)]\n"
      ],
      "metadata": {
        "id": "Ubkboy178aSi"
      },
      "execution_count": 3,
      "outputs": []
    },
    {
      "cell_type": "code",
      "source": [
        "sq_list"
      ],
      "metadata": {
        "colab": {
          "base_uri": "https://localhost:8080/"
        },
        "id": "82P91hWD9PP6",
        "outputId": "8d67a693-6266-49e2-e873-dc15f13472fc"
      },
      "execution_count": 4,
      "outputs": [
        {
          "output_type": "execute_result",
          "data": {
            "text/plain": [
              "[0, 1, 4, 9, 16, 25, 36, 49, 64, 81]"
            ]
          },
          "metadata": {},
          "execution_count": 4
        }
      ]
    },
    {
      "cell_type": "code",
      "source": [
        "num=4"
      ],
      "metadata": {
        "id": "z0lgIxg79koM"
      },
      "execution_count": 5,
      "outputs": []
    },
    {
      "cell_type": "code",
      "source": [
        "is_even= True if num%2 == 0 else false"
      ],
      "metadata": {
        "id": "R-ysD7-C9YKg"
      },
      "execution_count": 7,
      "outputs": []
    },
    {
      "cell_type": "code",
      "source": [
        "is_even"
      ],
      "metadata": {
        "colab": {
          "base_uri": "https://localhost:8080/"
        },
        "id": "vYWGAN6D-EcP",
        "outputId": "fde6b3cb-ac17-409a-8e1a-9ba8f3e15eb8"
      },
      "execution_count": 8,
      "outputs": [
        {
          "output_type": "execute_result",
          "data": {
            "text/plain": [
              "True"
            ]
          },
          "metadata": {},
          "execution_count": 8
        }
      ]
    },
    {
      "cell_type": "code",
      "source": [
        "0 :0 , 2:4 ,"
      ],
      "metadata": {
        "id": "xG8gWh_g-ITn"
      },
      "execution_count": null,
      "outputs": []
    },
    {
      "cell_type": "code",
      "source": [
        ""
      ],
      "metadata": {
        "id": "JERTYfzs-ueH"
      },
      "execution_count": null,
      "outputs": []
    },
    {
      "cell_type": "code",
      "source": [
        "sq_dict= {i:i**2 for i in range(0,11)}"
      ],
      "metadata": {
        "id": "7serj2R5-nGE"
      },
      "execution_count": 16,
      "outputs": []
    },
    {
      "cell_type": "code",
      "source": [
        "sq_dict"
      ],
      "metadata": {
        "colab": {
          "base_uri": "https://localhost:8080/"
        },
        "id": "7iOL2mrf_NLb",
        "outputId": "b1bf79f1-b856-4d92-a3a1-d7feca153370"
      },
      "execution_count": 17,
      "outputs": [
        {
          "output_type": "execute_result",
          "data": {
            "text/plain": [
              "{0: 0, 1: 1, 2: 4, 3: 9, 4: 16, 5: 25, 6: 36, 7: 49, 8: 64, 9: 81, 10: 100}"
            ]
          },
          "metadata": {},
          "execution_count": 17
        }
      ]
    },
    {
      "cell_type": "code",
      "source": [
        "#FUNCTIONS"
      ],
      "metadata": {
        "id": "-cPBEIAP_P0C"
      },
      "execution_count": null,
      "outputs": []
    },
    {
      "cell_type": "code",
      "source": [
        "#print statement is a built in function\n",
        "#type\n",
        "#round bracket () is a function\n",
        "#def is define function\n",
        "#CALL is very imp in function(is in the script)\n",
        "#Function body is 2 types\n",
        "#Return is a key word of the function (can be any data type)\n",
        "#once type block run fuction is exit"
      ],
      "metadata": {
        "id": "KUHHonHAAJJ6"
      },
      "execution_count": null,
      "outputs": []
    },
    {
      "cell_type": "code",
      "source": [
        "def  square():\n",
        "  sq_list=[]\n",
        "  for i in range(10):\n",
        "    sq_list.append(i**2)\n",
        "  return sq_list"
      ],
      "metadata": {
        "id": "OpC4tMH9B29I"
      },
      "execution_count": 18,
      "outputs": []
    },
    {
      "cell_type": "code",
      "source": [
        "square()"
      ],
      "metadata": {
        "colab": {
          "base_uri": "https://localhost:8080/"
        },
        "id": "AfQsoq-jC9hk",
        "outputId": "bb0c914e-b5d8-43d8-d5b1-90ef96814566"
      },
      "execution_count": 19,
      "outputs": [
        {
          "output_type": "execute_result",
          "data": {
            "text/plain": [
              "[0, 1, 4, 9, 16, 25, 36, 49, 64, 81]"
            ]
          },
          "metadata": {},
          "execution_count": 19
        }
      ]
    },
    {
      "cell_type": "code",
      "source": [
        "def  square():\n",
        "  sq_list=[]\n",
        "  for i in range(10):\n",
        "    sq_list.append(i**2)\n",
        "    return sq_list"
      ],
      "metadata": {
        "id": "RJa2VqyyDMal"
      },
      "execution_count": 20,
      "outputs": []
    },
    {
      "cell_type": "code",
      "source": [
        "square()"
      ],
      "metadata": {
        "colab": {
          "base_uri": "https://localhost:8080/"
        },
        "id": "UEyCv_eTDnVA",
        "outputId": "4383eed2-ce9f-4360-fed7-4a37058abf59"
      },
      "execution_count": 21,
      "outputs": [
        {
          "output_type": "execute_result",
          "data": {
            "text/plain": [
              "[0]"
            ]
          },
          "metadata": {},
          "execution_count": 21
        }
      ]
    },
    {
      "cell_type": "code",
      "source": [
        "a=square()"
      ],
      "metadata": {
        "id": "0_vBD78CDx9Q"
      },
      "execution_count": 22,
      "outputs": []
    },
    {
      "cell_type": "code",
      "source": [
        "a"
      ],
      "metadata": {
        "colab": {
          "base_uri": "https://localhost:8080/"
        },
        "id": "lsWjPjOUDrOd",
        "outputId": "03403045-c471-4a92-d5be-f5404bebfd49"
      },
      "execution_count": 23,
      "outputs": [
        {
          "output_type": "execute_result",
          "data": {
            "text/plain": [
              "[0]"
            ]
          },
          "metadata": {},
          "execution_count": 23
        }
      ]
    },
    {
      "cell_type": "code",
      "source": [
        "def  square():\n",
        "  sq_list=[]\n",
        "  for i in range(10):\n",
        "    sq_list.append(i**2)\n",
        "  return sq_list"
      ],
      "metadata": {
        "id": "MHvN-IPlD5WR"
      },
      "execution_count": 24,
      "outputs": []
    },
    {
      "cell_type": "code",
      "source": [
        "a=square()"
      ],
      "metadata": {
        "id": "AD7G8iGoEBIU"
      },
      "execution_count": 25,
      "outputs": []
    },
    {
      "cell_type": "code",
      "source": [
        "a"
      ],
      "metadata": {
        "colab": {
          "base_uri": "https://localhost:8080/"
        },
        "id": "O7Mak1PsEDaf",
        "outputId": "4e1e5837-5227-4463-a41b-6ceec148b0c2"
      },
      "execution_count": 26,
      "outputs": [
        {
          "output_type": "execute_result",
          "data": {
            "text/plain": [
              "[0, 1, 4, 9, 16, 25, 36, 49, 64, 81]"
            ]
          },
          "metadata": {},
          "execution_count": 26
        }
      ]
    },
    {
      "cell_type": "code",
      "source": [
        "#function can make 4 types\n",
        "#NO INPUT NO OUTPUT\n",
        "#give input no output\n"
      ],
      "metadata": {
        "id": "5a7fRAITEIbp"
      },
      "execution_count": null,
      "outputs": []
    },
    {
      "cell_type": "code",
      "source": [
        "def triangel():#no input no output\n",
        " print(\"afsheen\")"
      ],
      "metadata": {
        "id": "4_xm_nSeEaKX"
      },
      "execution_count": 29,
      "outputs": []
    },
    {
      "cell_type": "code",
      "source": [
        "triangel()"
      ],
      "metadata": {
        "colab": {
          "base_uri": "https://localhost:8080/"
        },
        "id": "YWdBmzE6E_LX",
        "outputId": "af2f3833-6078-4586-f1ca-b56e053f2c64"
      },
      "execution_count": 30,
      "outputs": [
        {
          "output_type": "stream",
          "name": "stdout",
          "text": [
            "afsheen\n"
          ]
        }
      ]
    },
    {
      "cell_type": "code",
      "source": [
        "print(triangel())"
      ],
      "metadata": {
        "colab": {
          "base_uri": "https://localhost:8080/"
        },
        "id": "BzwVCJMfFTg0",
        "outputId": "64e7b7cf-e8f1-4949-ab94-125c97ceb395"
      },
      "execution_count": 33,
      "outputs": [
        {
          "output_type": "stream",
          "name": "stdout",
          "text": [
            "afsheen\n",
            "None\n"
          ]
        }
      ]
    },
    {
      "cell_type": "code",
      "source": [
        "def greet_name(name):#give input no output\n",
        "  print(\"hello\",name)#local variable"
      ],
      "metadata": {
        "id": "z-aKqBv2GnVf"
      },
      "execution_count": 36,
      "outputs": []
    },
    {
      "cell_type": "code",
      "source": [
        "greet_name(\"afsheen\")"
      ],
      "metadata": {
        "colab": {
          "base_uri": "https://localhost:8080/"
        },
        "id": "Xk-9-gNmGuKO",
        "outputId": "770b3274-e40a-4c58-f93e-fe5a1e49b59b"
      },
      "execution_count": 37,
      "outputs": [
        {
          "output_type": "stream",
          "name": "stdout",
          "text": [
            "hello afsheen\n"
          ]
        }
      ]
    },
    {
      "cell_type": "code",
      "source": [
        "greet_name(input (\"enter your name\"))#give input no output\n"
      ],
      "metadata": {
        "colab": {
          "base_uri": "https://localhost:8080/"
        },
        "id": "FN8Azd6wHKuW",
        "outputId": "b8be13a7-1e8e-4a3b-8d1b-230801195867"
      },
      "execution_count": 41,
      "outputs": [
        {
          "output_type": "stream",
          "name": "stdout",
          "text": [
            "enter your nameaqsa\n",
            "hello aqsa\n"
          ]
        }
      ]
    },
    {
      "cell_type": "code",
      "source": [
        "def greet_name(user_name):#give input no output\n",
        "  print(\"hello\",user_name)#local variable\n"
      ],
      "metadata": {
        "id": "IKCQsfENIFMd"
      },
      "execution_count": 40,
      "outputs": []
    },
    {
      "cell_type": "code",
      "source": [
        "name= \"afsheen mohsin\"#global variable"
      ],
      "metadata": {
        "id": "AIgArqV9JMnU"
      },
      "execution_count": 42,
      "outputs": []
    },
    {
      "cell_type": "code",
      "source": [
        "greet_name(name)"
      ],
      "metadata": {
        "colab": {
          "base_uri": "https://localhost:8080/"
        },
        "id": "FEXmJxbpJZ0x",
        "outputId": "f9d4aced-ed9f-4a2d-8802-162113d23d99"
      },
      "execution_count": 43,
      "outputs": [
        {
          "output_type": "stream",
          "name": "stdout",
          "text": [
            "hello afsheen mohsin\n"
          ]
        }
      ]
    },
    {
      "cell_type": "code",
      "source": [
        "def greet_name(user_name =\"uzma\"):#give input no output\n",
        "  print(\"hello\",user_name)#local variable"
      ],
      "metadata": {
        "id": "dLD1nAxwI_dW"
      },
      "execution_count": 44,
      "outputs": []
    },
    {
      "cell_type": "code",
      "source": [
        "greet_name()"
      ],
      "metadata": {
        "colab": {
          "base_uri": "https://localhost:8080/"
        },
        "id": "SdoRUy7JKY_3",
        "outputId": "bbb59718-73eb-4339-b3d4-fb3aa9f5fe06"
      },
      "execution_count": 46,
      "outputs": [
        {
          "output_type": "stream",
          "name": "stdout",
          "text": [
            "hello uzma\n"
          ]
        }
      ]
    },
    {
      "cell_type": "code",
      "source": [
        "def addition(b , a):\n",
        "  print(a)\n",
        "  print(b)\n",
        "  return a+b"
      ],
      "metadata": {
        "id": "0ZwsKZfVLL5T"
      },
      "execution_count": 55,
      "outputs": []
    },
    {
      "cell_type": "code",
      "source": [
        "addition(a=6 ,b=7)"
      ],
      "metadata": {
        "colab": {
          "base_uri": "https://localhost:8080/"
        },
        "id": "Gbc7R5NkM7WQ",
        "outputId": "aa655ee3-2e5c-425d-bcd8-097bb7791f4b"
      },
      "execution_count": 56,
      "outputs": [
        {
          "output_type": "stream",
          "name": "stdout",
          "text": [
            "6\n",
            "7\n"
          ]
        },
        {
          "output_type": "execute_result",
          "data": {
            "text/plain": [
              "13"
            ]
          },
          "metadata": {},
          "execution_count": 56
        }
      ]
    },
    {
      "cell_type": "code",
      "source": [
        "def add_numbers():\n",
        "    a = int(input(\"Enter first number: \"))\n",
        "    b = int(input(\"Enter second number: \"))\n",
        "    print(\"Sum is:\", a + b)\n",
        "\n",
        "add_numbers()\n"
      ],
      "metadata": {
        "colab": {
          "base_uri": "https://localhost:8080/"
        },
        "id": "24LN4R-LLbh8",
        "outputId": "aad0f6a3-7ba2-423f-977a-4b49e10e6053"
      },
      "execution_count": 48,
      "outputs": [
        {
          "output_type": "stream",
          "name": "stdout",
          "text": [
            "Enter first number: 50\n",
            "Enter second number: 60\n",
            "Sum is: 110\n"
          ]
        }
      ]
    },
    {
      "cell_type": "code",
      "source": [
        "def even_num():\n",
        "  for i in range(10):\n",
        "    if i%2==0:\n",
        "      print(i)"
      ],
      "metadata": {
        "id": "sLJcsJi4OnQr"
      },
      "execution_count": 60,
      "outputs": []
    },
    {
      "cell_type": "code",
      "source": [
        "even_num()"
      ],
      "metadata": {
        "colab": {
          "base_uri": "https://localhost:8080/"
        },
        "id": "6J5n_v3PPPFf",
        "outputId": "5d0bfe30-a620-4e10-a91e-6d7ae4f79712"
      },
      "execution_count": 62,
      "outputs": [
        {
          "output_type": "stream",
          "name": "stdout",
          "text": [
            "0\n",
            "2\n",
            "4\n",
            "6\n",
            "8\n"
          ]
        }
      ]
    },
    {
      "cell_type": "code",
      "source": [],
      "metadata": {
        "id": "1ucH1Q5pPZQ_"
      },
      "execution_count": null,
      "outputs": []
    },
    {
      "cell_type": "code",
      "source": [],
      "metadata": {
        "id": "JVmfY0dwOiZh"
      },
      "execution_count": null,
      "outputs": []
    }
  ]
}